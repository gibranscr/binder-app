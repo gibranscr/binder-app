{
 "cells": [
  {
   "cell_type": "markdown",
   "metadata": {
    "toc": true
   },
   "source": [
    "<h1>Table of Contents<span class=\"tocSkip\"></span></h1>\n",
    "<div class=\"toc\"><ul class=\"toc-item\"></ul></div>"
   ]
  },
  {
   "cell_type": "code",
   "execution_count": 15,
   "metadata": {},
   "outputs": [
    {
     "name": "stdout",
     "output_type": "stream",
     "text": [
      "{'name': 'hazard_good_characteristics', 'roles': [{'id': '906881146460595', 'name': 'hazard_good_characteristics'}, {'id': '264525287971959', 'name': 'hazard_good_spec'}], 'lookups': ['free-text', 'keywords'], 'keywords': [], 'id': '906846859783543'}\n",
      "{'name': 'chemical_substance', 'roles': [{'id': '746989652775937', 'name': 'chemical_substance'}, {'id': '311411700256588', 'name': 'mixture_compound'}, {'id': '273343510579450', 'name': 'storage_substance'}], 'lookups': ['free-text', 'keywords'], 'keywords': [], 'id': '658111705063628'}\n",
      "{'name': 'ghs_classification', 'roles': [{'id': '357520715231613', 'name': 'chemical_characteristic'}, {'id': '823705768158177', 'name': 'ghs_classification'}], 'lookups': ['free-text', 'keywords'], 'keywords': [], 'id': '3212092018829764'}\n",
      "{'name': 'fluid_phase', 'roles': [{'id': '1789901031148110', 'name': 'fluid_phase'}, {'id': '2856141787946551', 'name': 'fluid_state'}], 'lookups': ['free-text', 'keywords'], 'keywords': [], 'id': '204999030701672'}\n"
     ]
    }
   ],
   "source": [
    "import requests\n",
    "import json\n",
    "API_ENDPOINT='https://api.wit.ai/entities?v=20200513'\n",
    "wit_access_token='FE5AVTCKI4WL7X2S4RCZPS4L7D53S5QP'\n",
    "\n",
    "\n",
    "def createEntity():\n",
    "    \n",
    "    #post entities and its corresponding roles without keywords first\n",
    "    entities=['hazard_good_characteristics','chemical_substance','ghs_classification','fluid_phase']\n",
    "    roles=[['hazard_good_spec'],['storage_substance','mixture_compound'],['chemical_characteristic'],['fluid_state']]\n",
    "\n",
    "    for i in range(len(entities)):\n",
    "        d1={'roles':roles[i]}\n",
    "        d2={'name':entities[i]}\n",
    "        dat={**d1,**d2}\n",
    "\n",
    "        #dat={'name':'chemical_substance','roles':['storage_substance','mixture_compound']}\n",
    "        #dat={'name':'get_storage_compatibility','roles':['class_of_substance']}\n",
    "        #print(newintent)\n",
    "        headers = {'authorization': 'Bearer ' + wit_access_token,'Content-Type': 'application/json'}\n",
    "        resp=requests.post(API_ENDPOINT,headers=headers,json=dat)\n",
    "        data=json.loads(resp.content)\n",
    "        print(data)\n",
    "    return data\n",
    "if __name__ == '__main__':\n",
    "    #intent=input()\n",
    "    textt=createEntity()\n",
    "    if textt is None:\n",
    "        print(\"\\n Result: Intent Saved on Wit.ai Success (200){}\")"
   ]
  },
  {
   "cell_type": "code",
   "execution_count": null,
   "metadata": {},
   "outputs": [],
   "source": []
  },
  {
   "cell_type": "code",
   "execution_count": null,
   "metadata": {},
   "outputs": [],
   "source": []
  }
 ],
 "metadata": {
  "kernelspec": {
   "display_name": "Python 3",
   "language": "python",
   "name": "python3"
  },
  "language_info": {
   "codemirror_mode": {
    "name": "ipython",
    "version": 3
   },
   "file_extension": ".py",
   "mimetype": "text/x-python",
   "name": "python",
   "nbconvert_exporter": "python",
   "pygments_lexer": "ipython3",
   "version": "3.7.3"
  },
  "toc": {
   "base_numbering": 1,
   "nav_menu": {},
   "number_sections": true,
   "sideBar": true,
   "skip_h1_title": false,
   "title_cell": "Table of Contents",
   "title_sidebar": "Contents",
   "toc_cell": true,
   "toc_position": {},
   "toc_section_display": true,
   "toc_window_display": true
  }
 },
 "nbformat": 4,
 "nbformat_minor": 2
}
