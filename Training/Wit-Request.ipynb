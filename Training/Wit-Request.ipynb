{
 "cells": [
  {
   "cell_type": "markdown",
   "metadata": {
    "toc": true
   },
   "source": [
    "<h1>Table of Contents<span class=\"tocSkip\"></span></h1>\n",
    "<div class=\"toc\"><ul class=\"toc-item\"></ul></div>"
   ]
  },
  {
   "cell_type": "code",
   "execution_count": 5,
   "metadata": {},
   "outputs": [
    {
     "name": "stdout",
     "output_type": "stream",
     "text": [
      "Please ask a question about the chemical compound that you want to know about:Can I combine the benzene and hexanol?\n",
      "Compuesto Quimico:  ['Benzene', 'Hexanol']\n",
      "Intensión Encontrada (Intent): get_ghs_classification\n"
     ]
    }
   ],
   "source": [
    "from __future__ import unicode_literals\n",
    "from youtube_search import YoutubeSearch\n",
    "import youtube_dl\n",
    "import os\n",
    "from pydub import AudioSegment\n",
    "from pydub.silence import split_on_silence\n",
    "import speech_recognition as sr\n",
    "import bs4 as bs\n",
    "import urllib.request\n",
    "import re\n",
    "import nltk\n",
    "import heapq\n",
    "import pubchempy as pcp\n",
    "import smtplib,ssl\n",
    "import requests\n",
    "import json\n",
    "import pandas as pd\n",
    "import time\n",
    "import yagmail        \n",
    "from wit import Wit\n",
    "\n",
    "\n",
    "chemicals=[]\n",
    "\n",
    "access_token_wit='FE5AVTCKI4WL7X2S4RCZPS4L7D53S5QP'\n",
    "#question='Can I combine the benzene and hexanol?'\n",
    "question=input('Please ask a question about the chemical compound that you want to know about:')\n",
    "def wit_request(question,access_token_wit):\n",
    "    \n",
    "    client = Wit(access_token=access_token_wit)\n",
    "    resp=client.message(msg=question)\n",
    "\n",
    "    data_extraction=json.dumps(resp)\n",
    "    data=json.loads(data_extraction)\n",
    "\n",
    "\n",
    "    def depth(data):\n",
    "        if \"entities\" in data:\n",
    "            return 1 +  max([0] + list(map(depth, data['entities'])))      \n",
    "        else:\n",
    "            return 1\n",
    "    levels_with_entities=depth(data)\n",
    "\n",
    "\n",
    "    #print(json.dumps(data,indent=2,sort_keys=True))\n",
    "    \n",
    "    def json_extract(obj,key):\n",
    "        arr=[]\n",
    "        def extract(obj,arr,key):\n",
    "            if isinstance(obj,dict):\n",
    "                for k,v in obj.items():\n",
    "                    if isinstance(v,(dict,list)):\n",
    "                        extract(v,arr,key)\n",
    "                    elif v==key:\n",
    "                        if obj not in arr:\n",
    "                            arr.append(obj)\n",
    "            elif isinstance(obj,list):\n",
    "                for item in obj:\n",
    "                    extract(item,arr,key)\n",
    "            return (arr)\n",
    "        values=extract(obj,arr,key)\n",
    "        return values\n",
    "    #get intents\n",
    "    intent=resp['intents'][0]['name']\n",
    "    #extract chemicals that wit.ai found\n",
    "    result_confirm=json_extract(data,'chemical_substance')\n",
    "    chemicals=[]\n",
    "    number_chemicals=len(result_confirm)\n",
    "    for q in range(number_chemicals):\n",
    "        chemicals.append(result_confirm[q]['value'])   \n",
    "    \n",
    "    #print(json.dumps(result_confirm,indent=2,sort_keys=True))\n",
    "    #print('result confirm:',chemicals,intent)#result_confirm)\n",
    "    \n",
    "    return (chemicals,intent)\n",
    "wit_results=wit_request(question,access_token_wit)\n",
    "print('Compuesto Quimico: ',wit_results[0])\n",
    "print('Intensión Encontrada (Intent):',wit_results[1])"
   ]
  },
  {
   "cell_type": "code",
   "execution_count": null,
   "metadata": {},
   "outputs": [],
   "source": []
  }
 ],
 "metadata": {
  "kernelspec": {
   "display_name": "Python 3",
   "language": "python",
   "name": "python3"
  },
  "language_info": {
   "codemirror_mode": {
    "name": "ipython",
    "version": 3
   },
   "file_extension": ".py",
   "mimetype": "text/x-python",
   "name": "python",
   "nbconvert_exporter": "python",
   "pygments_lexer": "ipython3",
   "version": "3.7.3"
  },
  "toc": {
   "base_numbering": 1,
   "nav_menu": {},
   "number_sections": true,
   "sideBar": true,
   "skip_h1_title": false,
   "title_cell": "Table of Contents",
   "title_sidebar": "Contents",
   "toc_cell": true,
   "toc_position": {},
   "toc_section_display": true,
   "toc_window_display": true
  }
 },
 "nbformat": 4,
 "nbformat_minor": 2
}
