{
 "cells": [
  {
   "cell_type": "markdown",
   "metadata": {
    "toc": true
   },
   "source": [
    "<h1>Table of Contents<span class=\"tocSkip\"></span></h1>\n",
    "<div class=\"toc\"><ul class=\"toc-item\"></ul></div>"
   ]
  },
  {
   "cell_type": "code",
   "execution_count": 1,
   "metadata": {},
   "outputs": [
    {
     "name": "stdout",
     "output_type": "stream",
     "text": [
      "fd\n",
      "{'id': '731569984294976', 'name': 'info_storage_compatibility'}\n",
      "{'id': '701135867287174', 'name': 'get_ghs_classification'}\n",
      "{'id': '663347357554721', 'name': 'confirm_storage_compatibility'}\n"
     ]
    }
   ],
   "source": [
    "import requests\n",
    "import json\n",
    "import pandas as pd\n",
    "\n",
    "\n",
    "API_ENDPOINT='https://api.wit.ai/intents'\n",
    "wit_access_token='FE5AVTCKI4WL7X2S4RCZPS4L7D53S5QP'\n",
    "def createIntent():\n",
    "    #usando plantilla de excel\n",
    "    #data=pd.read_excel('wit-training-model.xlsx')\n",
    "    #intents=data=pd.DataFrame(data,columns=['Intent',Entity','Keywords','Synonym_1','Synonym_2','Synonym_3','Synonym_4','PubChem_CID'])\n",
    "    \n",
    "    intents=['info_storage_compatibility','get_ghs_classification','confirm_storage_compatibility']\n",
    "    \n",
    "    for i in range(len(intents)):\n",
    "        data_post={'name':intents[i]}\n",
    "        \n",
    "        #usando plantilla de excel\n",
    "        #intents.iloc[i]['Intent']\n",
    "\n",
    "        headers = {'authorization': 'Bearer ' + wit_access_token,'Content-Type': 'application/json'}\n",
    "        resp=requests.post(API_ENDPOINT,headers=headers,json=data_post)\n",
    "        data=json.loads(resp.content)\n",
    "        print(data)\n",
    "    return data\n",
    "if __name__ == '__main__':\n",
    "    textt=createIntent()\n",
    "    if textt is None:\n",
    "        print(\"\\n Result: Intent Saved on Wit.ai Success (200){}\")"
   ]
  },
  {
   "cell_type": "code",
   "execution_count": 24,
   "metadata": {},
   "outputs": [
    {
     "name": "stdout",
     "output_type": "stream",
     "text": [
      "ghs_classification\n",
      "toxicity\n"
     ]
    }
   ],
   "source": [
    "import pandas as pd\n",
    "data=pd.read_excel('wit-training-model.xlsx')\n",
    "intents=pd.DataFrame(data,columns=['Intent','Entity','Keywords','Synonym_1','Synonym_2','Synonym_3','Synonym_4','PubChem_CID'])\n",
    "\n",
    "#df.head()\n",
    "\n",
    "#for i in range(len(intents)):\n",
    "#    print(intents.iloc[i]['Intent'])"
   ]
  },
  {
   "cell_type": "code",
   "execution_count": null,
   "metadata": {},
   "outputs": [],
   "source": []
  },
  {
   "cell_type": "code",
   "execution_count": null,
   "metadata": {},
   "outputs": [],
   "source": []
  }
 ],
 "metadata": {
  "kernelspec": {
   "display_name": "Python 3",
   "language": "python",
   "name": "python3"
  },
  "language_info": {
   "codemirror_mode": {
    "name": "ipython",
    "version": 3
   },
   "file_extension": ".py",
   "mimetype": "text/x-python",
   "name": "python",
   "nbconvert_exporter": "python",
   "pygments_lexer": "ipython3",
   "version": "3.7.3"
  },
  "toc": {
   "base_numbering": 1,
   "nav_menu": {},
   "number_sections": true,
   "sideBar": true,
   "skip_h1_title": false,
   "title_cell": "Table of Contents",
   "title_sidebar": "Contents",
   "toc_cell": true,
   "toc_position": {},
   "toc_section_display": true,
   "toc_window_display": true
  }
 },
 "nbformat": 4,
 "nbformat_minor": 2
}
