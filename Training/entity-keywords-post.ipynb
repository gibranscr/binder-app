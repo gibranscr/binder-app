{
 "cells": [
  {
   "cell_type": "markdown",
   "metadata": {
    "toc": true
   },
   "source": [
    "<h1>Table of Contents<span class=\"tocSkip\"></span></h1>\n",
    "<div class=\"toc\"><ul class=\"toc-item\"></ul></div>"
   ]
  },
  {
   "cell_type": "code",
   "execution_count": 4,
   "metadata": {},
   "outputs": [
    {
     "name": "stdout",
     "output_type": "stream",
     "text": [
      "{'name': 'chemical_substance', 'roles': [{'id': '746989652775937', 'name': 'chemical_substance'}, {'id': '311411700256588', 'name': 'mixture_compound'}, {'id': '273343510579450', 'name': 'storage_substance'}], 'lookups': ['free-text', 'keywords'], 'keywords': [{'keyword': 'Benzene', 'synonyms': ['benzene', 'benzol', 'benzole', 'cyclohexatriene']}, {'keyword': 'Hydrochloric Acid', 'synonyms': ['acid, hydrochloric', 'acid, muriatic', 'chloride, hydrogen', 'hydrochloric acid', 'hydrogen chloride']}], 'id': '658111705063628'}\n"
     ]
    }
   ],
   "source": [
    "import requests\n",
    "import json\n",
    "import pandas as pd\n",
    "\n",
    "API_ENDPOINT='https://api.wit.ai/entities/chemical_substance/keywords?v=20200624'\n",
    "wit_access_token='FE5AVTCKI4WL7X2S4RCZPS4L7D53S5QP'\n",
    "\n",
    "def createKeyword():\n",
    "    #data_excel=pd.read_excel('wit-training-model.xlsx')\n",
    "    #data_table=pd.DataFrame(dataexcel,columns=['Intent','Entity','Keywords','Synonym_1','Synonym_2','Synonym_3','Synonym_4','PubChem_CID'])\n",
    "    \n",
    "    #241-313\n",
    "    #choose one entity and add n keywords with n synonyms per keyword created\n",
    "    entities=['chemical_substance']\n",
    "    keyword=['Hydrochloric Acid']\n",
    "    synonyms=[['Acid, Hydrochloric','Acid, Muriatic','Hydrogen Chloride','Chloride, Hydrogen','Hydrochloric Acid']]\n",
    "    \n",
    "    #roles=[['hazard_good_spec'],['storage_substance','mixture_compound'],['chemical_characteristic'],['fluid_state']]\n",
    "\n",
    "    for i in range(len(keyword)):\n",
    "        #usando plantilla de excel\n",
    "        #data_roles=data_table.iloc[i]['roles']\n",
    "        #data_keyword=data_table.iloc[i]['Keywords']\n",
    "        #data_synonyms=data_table.iloc[i]['Synonym_1']\n",
    "        #data_entity=data_table.iloc[i]['Entity']\n",
    "        #API_ENDPOINT='https://api.wit.ai/entities/'+data_entity+'/keywords?v=20200624'\n",
    "        \n",
    "        \n",
    "        data_roles={'roles':roles[i]}\n",
    "        data_keyword={'keyword':keyword[i]}\n",
    "        data_synonyms={'synonyms':synonyms[i]}\n",
    "        data={**data_roles,**data_keyword,**data_synonyms}\n",
    "\n",
    "        #dat={'name':'chemical_substance','roles':['storage_substance','mixture_compound']}\n",
    "        #dat={'name':'get_storage_compatibility','roles':['class_of_substance']}\n",
    "        #print(newintent)\n",
    "        headers = {'authorization': 'Bearer ' + wit_access_token,'Content-Type': 'application/json'}\n",
    "        resp=requests.post(API_ENDPOINT,headers=headers,json=data)\n",
    "        data=json.loads(resp.content)\n",
    "        print(data)\n",
    "    return data\n",
    "if __name__ == '__main__':\n",
    "    #intent=input()\n",
    "    textt=createKeyword()\n",
    "    if textt is None:\n",
    "        print(\"\\n Result: Intent Saved on Wit.ai Success (200){}\")"
   ]
  },
  {
   "cell_type": "code",
   "execution_count": null,
   "metadata": {},
   "outputs": [],
   "source": [
    "import requests\n",
    "import json\n",
    "\n",
    "entity=['chemical_substance','fluid_phase']\n",
    "\n",
    "API_ENDPOINT='https://api.wit.ai/entities/'+entity+'/keywords?v=20200624'\n",
    "\n",
    "#API_ENDPOINT='https://api.wit.ai/entities/chemical_substance/keywords?v=20200624'\n",
    "wit_access_token='FE5AVTCKI4WL7X2S4RCZPS4L7D53S5QP'\n",
    "def createKeyword():\n",
    "    #241-313\n",
    "    #choose one entity and add n keywords with n synonyms per keyword created\n",
    "    entities=['chemical_substance']\n",
    "    keyword=['Hydrochloric Acid']\n",
    "    synonyms=[['Acid, Hydrochloric','Acid, Muriatic','Hydrogen Chloride','Chloride, Hydrogen','Hydrochloric Acid']]\n",
    "    \n",
    "    #roles=[['hazard_good_spec'],['storage_substance','mixture_compound'],['chemical_characteristic'],['fluid_state']]\n",
    "\n",
    "    for i in range(len(keyword)):\n",
    "        d1={'keyword':keyword[i]}\n",
    "        d2={'synonyms':synonyms[i]}\n",
    "        dat={**d1,**d2}\n",
    "\n",
    "        #dat={'name':'chemical_substance','roles':['storage_substance','mixture_compound']}\n",
    "        #dat={'name':'get_storage_compatibility','roles':['class_of_substance']}\n",
    "        #print(newintent)\n",
    "        headers = {'authorization': 'Bearer ' + wit_access_token,'Content-Type': 'application/json'}\n",
    "        resp=requests.post(API_ENDPOINT,headers=headers,json=dat)\n",
    "        data=json.loads(resp.content)\n",
    "        print(data)\n",
    "    return data\n",
    "if __name__ == '__main__':\n",
    "    #intent=input()\n",
    "    textt=createKeyword()\n",
    "    if textt is None:\n",
    "        print(\"\\n Result: Intent Saved on Wit.ai Success (200){}\")"
   ]
  }
 ],
 "metadata": {
  "kernelspec": {
   "display_name": "Python 3",
   "language": "python",
   "name": "python3"
  },
  "language_info": {
   "codemirror_mode": {
    "name": "ipython",
    "version": 3
   },
   "file_extension": ".py",
   "mimetype": "text/x-python",
   "name": "python",
   "nbconvert_exporter": "python",
   "pygments_lexer": "ipython3",
   "version": "3.7.3"
  },
  "toc": {
   "base_numbering": 1,
   "nav_menu": {},
   "number_sections": true,
   "sideBar": true,
   "skip_h1_title": false,
   "title_cell": "Table of Contents",
   "title_sidebar": "Contents",
   "toc_cell": true,
   "toc_position": {},
   "toc_section_display": true,
   "toc_window_display": true
  }
 },
 "nbformat": 4,
 "nbformat_minor": 2
}
