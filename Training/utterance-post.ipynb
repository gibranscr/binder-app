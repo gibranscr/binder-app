{
 "cells": [
  {
   "cell_type": "markdown",
   "metadata": {
    "toc": true
   },
   "source": [
    "<h1>Table of Contents<span class=\"tocSkip\"></span></h1>\n",
    "<div class=\"toc\"><ul class=\"toc-item\"></ul></div>"
   ]
  },
  {
   "cell_type": "code",
   "execution_count": 6,
   "metadata": {},
   "outputs": [
    {
     "name": "stdout",
     "output_type": "stream",
     "text": [
      "Is the benzene toxic and irritant? 7 14 Is the  toxic and irritant?\n",
      "{'sent': True, 'n': 1}\n",
      "Is the hexane a fammable liquid? 7 13 Is the  a fammable liquid?\n",
      "{'sent': True, 'n': 1}\n"
     ]
    }
   ],
   "source": [
    "import requests\n",
    "import json\n",
    "API_ENDPOINT='https://api.wit.ai/utterances?v=20200513'\n",
    "wit_access_token='FE5AVTCKI4WL7X2S4RCZPS4L7D53S5QP'\n",
    "def createUtterances():\n",
    "    #ut=['Tell me about the sulfuric acid','I want to know the characteristics of the sulfuric acid','Tell me about the properties of the sulfuric acid','Tell me what you know about the sulfuric acid','Precautions with the sulfuric acid','Chemical reactions with sulfuric acid','chemical compound sulfuric acid','Warnings of the sulfuric acid','Properties of the sulfuric acid','Advance information about the sulfuric acid', 'Basic information about the sulfuric acid']\n",
    "    ut=['Is the benzene toxic and irritant?','Is the hexane a fammable liquid?']\n",
    "    chemical_compound=['benzene','hexane']\n",
    "    for i in range(len(ut)):\n",
    "        \n",
    "        uterance=ut[i]\n",
    "        chemical=chemical_compound[i]\n",
    "        starting=uterance.find(chemical)\n",
    "        ending=starting+len(chemical)\n",
    "        body=uterance\n",
    "        body=body.replace(chemical,\"\")\n",
    "        \n",
    "        print(uterance,starting,ending, body)\n",
    "        '''\n",
    "        d1={'text':'Tell me the benzene'}\n",
    "        d2={'intent':'info_storage_compatibility'}\n",
    "        d3={'entities':\n",
    "            [\n",
    "                {\n",
    "                    'entity':'chemical_substance',\n",
    "                    'start':12,\n",
    "                    'end':19,\n",
    "                    'body':'benzene',\n",
    "                    'entities':[]\n",
    "                }\n",
    "            ]\n",
    "           }\n",
    "        d4={'traits':[]}\n",
    "        #dat={**d1,**d2,**d3,**d4}        \n",
    "        '''\n",
    "        '''\n",
    "        dat=[{\n",
    "            'text':str(ut[i]),\n",
    "            'intent':'ghs_classification',\n",
    "            'entities':\n",
    "            [\n",
    "                {\n",
    "                    'entity':'chemical_substance:chemical_substance',\n",
    "                    'start':int(len(ut[i])-13),\n",
    "                    'end':int(len(ut[i])),\n",
    "                    'body':str(ut[i][-13:]),\n",
    "                    'entities':[]\n",
    "                }\n",
    "            ],\n",
    "            'traits':[]\n",
    "        }]\n",
    "        '''\n",
    "        dat=[{\n",
    "            'text':str(ut[i]),\n",
    "            'intent':'get_ghs_classification',\n",
    "            'entities':\n",
    "            [\n",
    "                {\n",
    "                    'entity':'chemical_substance:chemical_substance',\n",
    "                    'start':starting,\n",
    "                    'end':ending,\n",
    "                    'body':chemical,\n",
    "                    'entities':[]\n",
    "                }\n",
    "            ],\n",
    "            'traits':[]\n",
    "        }]    \n",
    "            \n",
    "        headers = {'authorization': 'Bearer ' + wit_access_token,'Content-Type': 'application/json'}\n",
    "        resp=requests.post(API_ENDPOINT,headers=headers,json=dat)\n",
    "        data=json.loads(resp.content)\n",
    "        print(data)\n",
    "    return data\n",
    "if __name__ == '__main__':\n",
    "    #intent=input()\n",
    "    textt=createUtterances()\n",
    "    if textt is None:\n",
    "        print(\"\\n Result: Intent Saved on Wit.ai Success (200){}\")"
   ]
  },
  {
   "cell_type": "code",
   "execution_count": null,
   "metadata": {},
   "outputs": [],
   "source": [
    "import re\n",
    "uterance='Can I mix water and sulfuric acid'\n",
    "uterance2='Can I mix water and sulfuric acid'\n",
    "chem_data=[\"water\",\"sulfuric acid\"]\n",
    "\n",
    "for data in chem_data:\n",
    "    start=uterance.find(data,0)\n",
    "    final=start+len(data)\n",
    "   \n",
    "    print(\"beginning:\",start)\n",
    "    print(\"final:\",final)\n",
    "    \n",
    "    if data in uterance2:\n",
    "        uterance2=uterance2.replace(data,'')\n",
    "        body=uterance2\n",
    "\n",
    "print('body:',body)"
   ]
  },
  {
   "cell_type": "code",
   "execution_count": null,
   "metadata": {},
   "outputs": [],
   "source": []
  }
 ],
 "metadata": {
  "kernelspec": {
   "display_name": "Python 3",
   "language": "python",
   "name": "python3"
  },
  "language_info": {
   "codemirror_mode": {
    "name": "ipython",
    "version": 3
   },
   "file_extension": ".py",
   "mimetype": "text/x-python",
   "name": "python",
   "nbconvert_exporter": "python",
   "pygments_lexer": "ipython3",
   "version": "3.7.3"
  },
  "toc": {
   "base_numbering": 1,
   "nav_menu": {},
   "number_sections": true,
   "sideBar": true,
   "skip_h1_title": false,
   "title_cell": "Table of Contents",
   "title_sidebar": "Contents",
   "toc_cell": true,
   "toc_position": {},
   "toc_section_display": true,
   "toc_window_display": true
  }
 },
 "nbformat": 4,
 "nbformat_minor": 2
}
