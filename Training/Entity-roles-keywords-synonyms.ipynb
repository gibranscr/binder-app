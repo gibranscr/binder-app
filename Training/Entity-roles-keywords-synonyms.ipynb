{
 "cells": [
  {
   "cell_type": "markdown",
   "metadata": {
    "toc": true
   },
   "source": [
    "<h1>Table of Contents<span class=\"tocSkip\"></span></h1>\n",
    "<div class=\"toc\"><ul class=\"toc-item\"></ul></div>"
   ]
  },
  {
   "cell_type": "code",
   "execution_count": 1,
   "metadata": {},
   "outputs": [
    {
     "name": "stdout",
     "output_type": "stream",
     "text": [
      "{'name': 'chemical_substance', 'roles': [{'id': '2974311402686123', 'name': 'add_mix_compounds'}, {'id': '746989652775937', 'name': 'chemical_substance'}, {'id': '311411700256588', 'name': 'mixture_compound'}, {'id': '273343510579450', 'name': 'storage_substance'}, {'id': '1359642924242941', 'name': 'stored_substance'}], 'lookups': ['free-text', 'keywords'], 'keywords': [{'keyword': 'Benzene', 'synonyms': ['benzene', 'benzol', 'benzole', 'cyclohexatriene', 'flamm', 'nzene?']}, {'keyword': 'Hexanol', 'synonyms': ['hexanol']}, {'keyword': 'Hydrochloric Acid', 'synonyms': ['acid, hydrochloric', 'acid, muriatic', 'chloride, hydrogen', 'hydrochloric acid', 'hydrogen chloride', 'muriatic acid']}, {'keyword': 'Is the  a fammable liquid?', 'synonyms': ['hexane']}, {'keyword': 'Is the  toxic and irritant?', 'synonyms': ['benzene']}, {'keyword': 'Pentene', 'synonyms': ['1-pentene', 'pentene', 'pentylene']}, {'keyword': 'ammonia', 'synonyms': ['ammonia']}, {'keyword': 'benezene', 'synonyms': ['benezene']}, {'keyword': 'benzen', 'synonyms': ['benzen']}, {'keyword': 'bezene', 'synonyms': ['bezene']}, {'keyword': 'butane', 'synonyms': ['butane']}, {'keyword': 'buthanol', 'synonyms': ['buthanol']}, {'keyword': 'cyclohexane', 'synonyms': ['cyclohexane']}, {'keyword': 'cyclohexene', 'synonyms': ['cyclohexene']}, {'keyword': 'cyclopentane', 'synonyms': ['cyclopentane']}, {'keyword': 'detergent', 'synonyms': ['detergent']}, {'keyword': 'diesel', 'synonyms': ['diesel']}, {'keyword': 'dioxide carbon', 'synonyms': ['dioxide carbon']}, {'keyword': 'dodecane', 'synonyms': ['dodecane']}, {'keyword': 'ethanol', 'synonyms': ['ethanol']}, {'keyword': 'ethlene', 'synonyms': ['ethlene']}, {'keyword': 'ethyl alcohol', 'synonyms': ['ethyl alcoho', 'ethyl alcohol']}, {'keyword': 'ethylene', 'synonyms': ['ethylene']}, {'keyword': 'hexametahonol', 'synonyms': ['hexametahonol']}, {'keyword': 'hexane', 'synonyms': ['hexane']}, {'keyword': 'hexene', 'synonyms': ['hexene']}, {'keyword': 'methane', 'synonyms': ['methane']}, {'keyword': 'methanol', 'synonyms': ['methanol']}, {'keyword': 'methylene', 'synonyms': ['ethylene', 'methylene']}, {'keyword': 'monoxide carbon', 'synonyms': ['monoxide carbon']}, {'keyword': 'muriatic acid', 'synonyms': ['muriatic acid']}, {'keyword': 'nitrogen', 'synonyms': ['nitrogen']}, {'keyword': 'penthanol', 'synonyms': ['penthanol']}, {'keyword': 'pentil amine', 'synonyms': ['pentil amine']}, {'keyword': 'propane', 'synonyms': ['propane']}, {'keyword': 'sulfuric acid', 'synonyms': ['sulfuric acid', 'ulfuric aci']}, {'keyword': 'trielene amine', 'synonyms': ['trielene amine']}, {'keyword': 'triethanol', 'synonyms': ['triethanol']}, {'keyword': 'trimethyl amine', 'synonyms': ['trimethyl amine']}, {'keyword': 'undecane', 'synonyms': ['undecane']}, {'keyword': 'water', 'synonyms': ['ater', 'water']}], 'id': '658111705063628'}\n"
     ]
    }
   ],
   "source": [
    "import requests\n",
    "import json\n",
    "API_ENDPOINT='https://api.wit.ai/entities/chemical_substance/keywords?v=20200624'\n",
    "wit_access_token='FE5AVTCKI4WL7X2S4RCZPS4L7D53S5QP'\n",
    "def createKeyword():\n",
    "    #usando plantilla de excel\n",
    "    #data_excel=pd.read_excel('wit-training-model.xlsx')\n",
    "    #data_table=pd.DataFrame(dataexcel,columns=['Intent','Entity','Keywords','Synonym_1','Synonym_2','Synonym_3','Synonym_4','PubChem_CID'])\n",
    "    \n",
    "    #241-313\n",
    "    #choose one entity and add n keywords with n synonyms per keyword created\n",
    "    entities=['chemical_substance']\n",
    "    keyword=['Pentene']\n",
    "    synonyms=[['Pentylene', '1-pentene']]\n",
    "    \n",
    "    roles=[['environmental_condition'],['weather_temperature']]\n",
    "\n",
    "    for i in range(len(keyword)):\n",
    "        #usando plantilla de excel\n",
    "        #data_roles=data_table.iloc[i]['roles']\n",
    "        #data_keyword=data_table.iloc[i]['Keywords']\n",
    "        #data_synonyms=data_table.iloc[i]['Synonym_1']\n",
    "        #data_entity=data_table.iloc[i]['Entity']\n",
    "        #API_ENDPOINT='https://api.wit.ai/entities/'+data_entity+'/keywords?v=20200624'\n",
    "        \n",
    "        d1={'roles':roles[i]}\n",
    "        d2={'keyword':keyword[i]}\n",
    "        d3={'synonyms':synonyms[i]}\n",
    "        \n",
    "        dat={**d1,**d2,**d3}\n",
    "\n",
    "        #dat={'name':'chemical_substance','roles':['storage_substance','mixture_compound']}\n",
    "        #dat={'name':'get_storage_compatibility','roles':['class_of_substance']}\n",
    "        #print(newintent)\n",
    "        headers = {'authorization': 'Bearer ' + wit_access_token,'Content-Type': 'application/json'}\n",
    "        resp=requests.post(API_ENDPOINT,headers=headers,json=dat)\n",
    "        data=json.loads(resp.content)\n",
    "        print(data)\n",
    "    return data\n",
    "if __name__ == '__main__':\n",
    "\n",
    "    textt=createKeyword()\n",
    "    if textt is None:\n",
    "        print(\"\\n Result: Intent Saved on Wit.ai Success (200){}\")"
   ]
  },
  {
   "cell_type": "code",
   "execution_count": null,
   "metadata": {},
   "outputs": [],
   "source": []
  }
 ],
 "metadata": {
  "kernelspec": {
   "display_name": "Python 3",
   "language": "python",
   "name": "python3"
  },
  "language_info": {
   "codemirror_mode": {
    "name": "ipython",
    "version": 3
   },
   "file_extension": ".py",
   "mimetype": "text/x-python",
   "name": "python",
   "nbconvert_exporter": "python",
   "pygments_lexer": "ipython3",
   "version": "3.7.3"
  },
  "toc": {
   "base_numbering": 1,
   "nav_menu": {},
   "number_sections": true,
   "sideBar": true,
   "skip_h1_title": false,
   "title_cell": "Table of Contents",
   "title_sidebar": "Contents",
   "toc_cell": true,
   "toc_position": {},
   "toc_section_display": true,
   "toc_window_display": true
  }
 },
 "nbformat": 4,
 "nbformat_minor": 2
}
