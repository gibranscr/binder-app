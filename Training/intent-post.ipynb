{
 "cells": [
  {
   "cell_type": "markdown",
   "metadata": {
    "toc": true
   },
   "source": [
    "<h1>Table of Contents<span class=\"tocSkip\"></span></h1>\n",
    "<div class=\"toc\"><ul class=\"toc-item\"></ul></div>"
   ]
  },
  {
   "cell_type": "code",
   "execution_count": 2,
   "metadata": {},
   "outputs": [
    {
     "name": "stdout",
     "output_type": "stream",
     "text": [
      "{'id': '745363729648038', 'name': 'mix_compatibility'}\n",
      "{'error': '\"info_storage_compatibility\" already exists', 'code': 'bad-request'}\n",
      "{'error': '\"get_ghs_classification\" already exists', 'code': 'bad-request'}\n",
      "{'error': '\"confirm_storage_compatibility\" already exists', 'code': 'bad-request'}\n"
     ]
    }
   ],
   "source": [
    "import requests\n",
    "import json\n",
    "API_ENDPOINT='https://api.wit.ai/intents'\n",
    "wit_access_token='FE5AVTCKI4WL7X2S4RCZPS4L7D53S5QP'\n",
    "def createIntent():\n",
    "    intents=['mix_compatibility','info_storage_compatibility','get_ghs_classification','confirm_storage_compatibility']\n",
    "    for i in range(len(intents)):\n",
    "        dat={'name':intents[i]}\n",
    "    #dat={'name':newintent}\n",
    "    #print(newintent)\n",
    "        headers = {'authorization': 'Bearer ' + wit_access_token,'Content-Type': 'application/json'}\n",
    "        resp=requests.post(API_ENDPOINT,headers=headers,json=dat)\n",
    "        data=json.loads(resp.content)\n",
    "        print(data)\n",
    "    return data\n",
    "if __name__ == '__main__':\n",
    "    #intent=input()\n",
    "    textt=createIntent()\n",
    "    if textt is None:\n",
    "        print(\"\\n Result: Intent Saved on Wit.ai Success (200){}\")"
   ]
  },
  {
   "cell_type": "code",
   "execution_count": null,
   "metadata": {},
   "outputs": [],
   "source": []
  },
  {
   "cell_type": "code",
   "execution_count": null,
   "metadata": {},
   "outputs": [],
   "source": []
  }
 ],
 "metadata": {
  "kernelspec": {
   "display_name": "Python 3",
   "language": "python",
   "name": "python3"
  },
  "language_info": {
   "codemirror_mode": {
    "name": "ipython",
    "version": 3
   },
   "file_extension": ".py",
   "mimetype": "text/x-python",
   "name": "python",
   "nbconvert_exporter": "python",
   "pygments_lexer": "ipython3",
   "version": "3.7.3"
  },
  "toc": {
   "base_numbering": 1,
   "nav_menu": {},
   "number_sections": true,
   "sideBar": true,
   "skip_h1_title": false,
   "title_cell": "Table of Contents",
   "title_sidebar": "Contents",
   "toc_cell": true,
   "toc_position": {},
   "toc_section_display": true,
   "toc_window_display": true
  }
 },
 "nbformat": 4,
 "nbformat_minor": 2
}
